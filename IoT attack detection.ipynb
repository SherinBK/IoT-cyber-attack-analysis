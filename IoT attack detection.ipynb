{
 "cells": [
  {
   "cell_type": "markdown",
   "metadata": {},
   "source": [
    "# IoT cyber attack Analysis - UNSW NB15 dataset"
   ]
  },
  {
   "cell_type": "raw",
   "metadata": {},
   "source": [
    "1. Classification if the action is an attack or normal response\n",
    "2. Identifyfing the type of attack\n",
    "    -Backdoors\n",
    "    -Analysis\n",
    "    -DoS attacks\n",
    "    -Exploits\n",
    "    -Fuzzers\n",
    "    -Generic attacks\n",
    "    -Reconnaissance\n",
    "    -Shellcode\n",
    "    -Worms"
   ]
  },
  {
   "cell_type": "markdown",
   "metadata": {},
   "source": [
    "### Importing necessary libraries"
   ]
  },
  {
   "cell_type": "code",
   "execution_count": 1,
   "metadata": {},
   "outputs": [],
   "source": [
    "import pandas as pd\n",
    "import numpy as np\n",
    "import seaborn as sns\n",
    "import matplotlib.pyplot as plt\n",
    "plt.style.use('ggplot')\n",
    "%matplotlib inline\n",
    "import warnings\n",
    "\n",
    "from sklearn.compose import ColumnTransformer\n",
    "from sklearn.preprocessing import StandardScaler, LabelEncoder, OneHotEncoder\n",
    "\n",
    "from sklearn.model_selection import train_test_split\n",
    "from sklearn.metrics import precision_score, recall_score, f1_score, accuracy_score\n",
    "from sklearn.metrics import confusion_matrix, classification_report\n",
    "\n",
    "from sklearn.linear_model import LogisticRegression\n",
    "from sklearn.tree import DecisionTreeClassifier\n",
    "from sklearn.ensemble import RandomForestClassifier\n",
    "from sklearn.naive_bayes import GaussianNB\n",
    "from sklearn.svm import SVC"
   ]
  },
  {
   "cell_type": "markdown",
   "metadata": {},
   "source": [
    "### Loading the data"
   ]
  },
  {
   "cell_type": "code",
   "execution_count": 77,
   "metadata": {},
   "outputs": [
    {
     "data": {
      "text/plain": [
       "(175341, 45)"
      ]
     },
     "execution_count": 77,
     "metadata": {},
     "output_type": "execute_result"
    }
   ],
   "source": [
    "initial_data = pd.read_csv('UNSW_NB15_training.csv')\n",
    "initial_data.shape"
   ]
  },
  {
   "cell_type": "code",
   "execution_count": 80,
   "metadata": {},
   "outputs": [
    {
     "data": {
      "text/html": [
       "<div>\n",
       "<style scoped>\n",
       "    .dataframe tbody tr th:only-of-type {\n",
       "        vertical-align: middle;\n",
       "    }\n",
       "\n",
       "    .dataframe tbody tr th {\n",
       "        vertical-align: top;\n",
       "    }\n",
       "\n",
       "    .dataframe thead th {\n",
       "        text-align: right;\n",
       "    }\n",
       "</style>\n",
       "<table border=\"1\" class=\"dataframe\">\n",
       "  <thead>\n",
       "    <tr style=\"text-align: right;\">\n",
       "      <th></th>\n",
       "      <th>id</th>\n",
       "      <th>dur</th>\n",
       "      <th>proto</th>\n",
       "      <th>service</th>\n",
       "      <th>state</th>\n",
       "      <th>spkts</th>\n",
       "      <th>dpkts</th>\n",
       "      <th>sbytes</th>\n",
       "      <th>dbytes</th>\n",
       "      <th>rate</th>\n",
       "      <th>...</th>\n",
       "      <th>ct_dst_sport_ltm</th>\n",
       "      <th>ct_dst_src_ltm</th>\n",
       "      <th>is_ftp_login</th>\n",
       "      <th>ct_ftp_cmd</th>\n",
       "      <th>ct_flw_http_mthd</th>\n",
       "      <th>ct_src_ltm</th>\n",
       "      <th>ct_srv_dst</th>\n",
       "      <th>is_sm_ips_ports</th>\n",
       "      <th>attack_cat</th>\n",
       "      <th>label</th>\n",
       "    </tr>\n",
       "  </thead>\n",
       "  <tbody>\n",
       "    <tr>\n",
       "      <th>0</th>\n",
       "      <td>1</td>\n",
       "      <td>0.121478</td>\n",
       "      <td>tcp</td>\n",
       "      <td>-</td>\n",
       "      <td>FIN</td>\n",
       "      <td>6</td>\n",
       "      <td>4</td>\n",
       "      <td>258</td>\n",
       "      <td>172</td>\n",
       "      <td>74.087490</td>\n",
       "      <td>...</td>\n",
       "      <td>1</td>\n",
       "      <td>1</td>\n",
       "      <td>0</td>\n",
       "      <td>0</td>\n",
       "      <td>0</td>\n",
       "      <td>1</td>\n",
       "      <td>1</td>\n",
       "      <td>0</td>\n",
       "      <td>Normal</td>\n",
       "      <td>0</td>\n",
       "    </tr>\n",
       "    <tr>\n",
       "      <th>1</th>\n",
       "      <td>2</td>\n",
       "      <td>0.649902</td>\n",
       "      <td>tcp</td>\n",
       "      <td>-</td>\n",
       "      <td>FIN</td>\n",
       "      <td>14</td>\n",
       "      <td>38</td>\n",
       "      <td>734</td>\n",
       "      <td>42014</td>\n",
       "      <td>78.473372</td>\n",
       "      <td>...</td>\n",
       "      <td>1</td>\n",
       "      <td>2</td>\n",
       "      <td>0</td>\n",
       "      <td>0</td>\n",
       "      <td>0</td>\n",
       "      <td>1</td>\n",
       "      <td>6</td>\n",
       "      <td>0</td>\n",
       "      <td>Normal</td>\n",
       "      <td>0</td>\n",
       "    </tr>\n",
       "    <tr>\n",
       "      <th>2</th>\n",
       "      <td>3</td>\n",
       "      <td>1.623129</td>\n",
       "      <td>tcp</td>\n",
       "      <td>-</td>\n",
       "      <td>FIN</td>\n",
       "      <td>8</td>\n",
       "      <td>16</td>\n",
       "      <td>364</td>\n",
       "      <td>13186</td>\n",
       "      <td>14.170161</td>\n",
       "      <td>...</td>\n",
       "      <td>1</td>\n",
       "      <td>3</td>\n",
       "      <td>0</td>\n",
       "      <td>0</td>\n",
       "      <td>0</td>\n",
       "      <td>2</td>\n",
       "      <td>6</td>\n",
       "      <td>0</td>\n",
       "      <td>Normal</td>\n",
       "      <td>0</td>\n",
       "    </tr>\n",
       "    <tr>\n",
       "      <th>3</th>\n",
       "      <td>4</td>\n",
       "      <td>1.681642</td>\n",
       "      <td>tcp</td>\n",
       "      <td>ftp</td>\n",
       "      <td>FIN</td>\n",
       "      <td>12</td>\n",
       "      <td>12</td>\n",
       "      <td>628</td>\n",
       "      <td>770</td>\n",
       "      <td>13.677108</td>\n",
       "      <td>...</td>\n",
       "      <td>1</td>\n",
       "      <td>3</td>\n",
       "      <td>1</td>\n",
       "      <td>1</td>\n",
       "      <td>0</td>\n",
       "      <td>2</td>\n",
       "      <td>1</td>\n",
       "      <td>0</td>\n",
       "      <td>Normal</td>\n",
       "      <td>0</td>\n",
       "    </tr>\n",
       "    <tr>\n",
       "      <th>4</th>\n",
       "      <td>5</td>\n",
       "      <td>0.449454</td>\n",
       "      <td>tcp</td>\n",
       "      <td>-</td>\n",
       "      <td>FIN</td>\n",
       "      <td>10</td>\n",
       "      <td>6</td>\n",
       "      <td>534</td>\n",
       "      <td>268</td>\n",
       "      <td>33.373826</td>\n",
       "      <td>...</td>\n",
       "      <td>1</td>\n",
       "      <td>40</td>\n",
       "      <td>0</td>\n",
       "      <td>0</td>\n",
       "      <td>0</td>\n",
       "      <td>2</td>\n",
       "      <td>39</td>\n",
       "      <td>0</td>\n",
       "      <td>Normal</td>\n",
       "      <td>0</td>\n",
       "    </tr>\n",
       "  </tbody>\n",
       "</table>\n",
       "<p>5 rows × 45 columns</p>\n",
       "</div>"
      ],
      "text/plain": [
       "   id       dur proto service state  spkts  dpkts  sbytes  dbytes       rate  \\\n",
       "0   1  0.121478   tcp       -   FIN      6      4     258     172  74.087490   \n",
       "1   2  0.649902   tcp       -   FIN     14     38     734   42014  78.473372   \n",
       "2   3  1.623129   tcp       -   FIN      8     16     364   13186  14.170161   \n",
       "3   4  1.681642   tcp     ftp   FIN     12     12     628     770  13.677108   \n",
       "4   5  0.449454   tcp       -   FIN     10      6     534     268  33.373826   \n",
       "\n",
       "   ...  ct_dst_sport_ltm  ct_dst_src_ltm  is_ftp_login  ct_ftp_cmd  \\\n",
       "0  ...                 1               1             0           0   \n",
       "1  ...                 1               2             0           0   \n",
       "2  ...                 1               3             0           0   \n",
       "3  ...                 1               3             1           1   \n",
       "4  ...                 1              40             0           0   \n",
       "\n",
       "   ct_flw_http_mthd  ct_src_ltm  ct_srv_dst  is_sm_ips_ports  attack_cat  \\\n",
       "0                 0           1           1                0      Normal   \n",
       "1                 0           1           6                0      Normal   \n",
       "2                 0           2           6                0      Normal   \n",
       "3                 0           2           1                0      Normal   \n",
       "4                 0           2          39                0      Normal   \n",
       "\n",
       "   label  \n",
       "0      0  \n",
       "1      0  \n",
       "2      0  \n",
       "3      0  \n",
       "4      0  \n",
       "\n",
       "[5 rows x 45 columns]"
      ]
     },
     "execution_count": 80,
     "metadata": {},
     "output_type": "execute_result"
    }
   ],
   "source": [
    "initial_data.head()"
   ]
  },
  {
   "cell_type": "code",
   "execution_count": 3,
   "metadata": {
    "scrolled": true
   },
   "outputs": [
    {
     "data": {
      "text/html": [
       "<div>\n",
       "<style scoped>\n",
       "    .dataframe tbody tr th:only-of-type {\n",
       "        vertical-align: middle;\n",
       "    }\n",
       "\n",
       "    .dataframe tbody tr th {\n",
       "        vertical-align: top;\n",
       "    }\n",
       "\n",
       "    .dataframe thead th {\n",
       "        text-align: right;\n",
       "    }\n",
       "</style>\n",
       "<table border=\"1\" class=\"dataframe\">\n",
       "  <thead>\n",
       "    <tr style=\"text-align: right;\">\n",
       "      <th></th>\n",
       "      <th>Name</th>\n",
       "      <th>Type</th>\n",
       "      <th>Description</th>\n",
       "    </tr>\n",
       "  </thead>\n",
       "  <tbody>\n",
       "    <tr>\n",
       "      <th>0</th>\n",
       "      <td>srcip</td>\n",
       "      <td>nominal</td>\n",
       "      <td>Source IP address</td>\n",
       "    </tr>\n",
       "    <tr>\n",
       "      <th>1</th>\n",
       "      <td>sport</td>\n",
       "      <td>integer</td>\n",
       "      <td>Source port number</td>\n",
       "    </tr>\n",
       "    <tr>\n",
       "      <th>2</th>\n",
       "      <td>dstip</td>\n",
       "      <td>nominal</td>\n",
       "      <td>Destination IP address</td>\n",
       "    </tr>\n",
       "    <tr>\n",
       "      <th>3</th>\n",
       "      <td>dsport</td>\n",
       "      <td>integer</td>\n",
       "      <td>Destination port number</td>\n",
       "    </tr>\n",
       "    <tr>\n",
       "      <th>4</th>\n",
       "      <td>proto</td>\n",
       "      <td>nominal</td>\n",
       "      <td>Transaction protocol</td>\n",
       "    </tr>\n",
       "    <tr>\n",
       "      <th>5</th>\n",
       "      <td>state</td>\n",
       "      <td>nominal</td>\n",
       "      <td>Indicates to the state and its dependent proto...</td>\n",
       "    </tr>\n",
       "    <tr>\n",
       "      <th>6</th>\n",
       "      <td>dur</td>\n",
       "      <td>Float</td>\n",
       "      <td>Record total duration</td>\n",
       "    </tr>\n",
       "    <tr>\n",
       "      <th>7</th>\n",
       "      <td>sbytes</td>\n",
       "      <td>Integer</td>\n",
       "      <td>Source to destination transaction bytes</td>\n",
       "    </tr>\n",
       "    <tr>\n",
       "      <th>8</th>\n",
       "      <td>dbytes</td>\n",
       "      <td>Integer</td>\n",
       "      <td>Destination to source transaction bytes</td>\n",
       "    </tr>\n",
       "    <tr>\n",
       "      <th>9</th>\n",
       "      <td>sttl</td>\n",
       "      <td>Integer</td>\n",
       "      <td>Source to destination time to live value</td>\n",
       "    </tr>\n",
       "    <tr>\n",
       "      <th>10</th>\n",
       "      <td>dttl</td>\n",
       "      <td>Integer</td>\n",
       "      <td>Destination to source time to live value</td>\n",
       "    </tr>\n",
       "    <tr>\n",
       "      <th>11</th>\n",
       "      <td>sloss</td>\n",
       "      <td>Integer</td>\n",
       "      <td>Source packets retransmitted or dropped</td>\n",
       "    </tr>\n",
       "    <tr>\n",
       "      <th>12</th>\n",
       "      <td>dloss</td>\n",
       "      <td>Integer</td>\n",
       "      <td>Destination packets retransmitted or dropped</td>\n",
       "    </tr>\n",
       "    <tr>\n",
       "      <th>13</th>\n",
       "      <td>service</td>\n",
       "      <td>nominal</td>\n",
       "      <td>http, ftp, smtp, ssh, dns, ftp-data ,irc  and ...</td>\n",
       "    </tr>\n",
       "    <tr>\n",
       "      <th>14</th>\n",
       "      <td>Sload</td>\n",
       "      <td>Float</td>\n",
       "      <td>Source bits per second</td>\n",
       "    </tr>\n",
       "    <tr>\n",
       "      <th>15</th>\n",
       "      <td>Dload</td>\n",
       "      <td>Float</td>\n",
       "      <td>Destination bits per second</td>\n",
       "    </tr>\n",
       "    <tr>\n",
       "      <th>16</th>\n",
       "      <td>Spkts</td>\n",
       "      <td>integer</td>\n",
       "      <td>Source to destination packet count</td>\n",
       "    </tr>\n",
       "    <tr>\n",
       "      <th>17</th>\n",
       "      <td>Dpkts</td>\n",
       "      <td>integer</td>\n",
       "      <td>Destination to source packet count</td>\n",
       "    </tr>\n",
       "    <tr>\n",
       "      <th>18</th>\n",
       "      <td>swin</td>\n",
       "      <td>integer</td>\n",
       "      <td>Source TCP window advertisement value</td>\n",
       "    </tr>\n",
       "    <tr>\n",
       "      <th>19</th>\n",
       "      <td>dwin</td>\n",
       "      <td>integer</td>\n",
       "      <td>Destination TCP window advertisement value</td>\n",
       "    </tr>\n",
       "    <tr>\n",
       "      <th>20</th>\n",
       "      <td>stcpb</td>\n",
       "      <td>integer</td>\n",
       "      <td>Source TCP base sequence number</td>\n",
       "    </tr>\n",
       "    <tr>\n",
       "      <th>21</th>\n",
       "      <td>dtcpb</td>\n",
       "      <td>integer</td>\n",
       "      <td>Destination TCP base sequence number</td>\n",
       "    </tr>\n",
       "    <tr>\n",
       "      <th>22</th>\n",
       "      <td>smeansz</td>\n",
       "      <td>integer</td>\n",
       "      <td>Mean of the ?ow packet size transmitted by the...</td>\n",
       "    </tr>\n",
       "    <tr>\n",
       "      <th>23</th>\n",
       "      <td>dmeansz</td>\n",
       "      <td>integer</td>\n",
       "      <td>Mean of the ?ow packet size transmitted by the...</td>\n",
       "    </tr>\n",
       "    <tr>\n",
       "      <th>24</th>\n",
       "      <td>trans_depth</td>\n",
       "      <td>integer</td>\n",
       "      <td>Represents the pipelined depth into the connec...</td>\n",
       "    </tr>\n",
       "    <tr>\n",
       "      <th>25</th>\n",
       "      <td>res_bdy_len</td>\n",
       "      <td>integer</td>\n",
       "      <td>Actual uncompressed content size of the data t...</td>\n",
       "    </tr>\n",
       "    <tr>\n",
       "      <th>26</th>\n",
       "      <td>Sjit</td>\n",
       "      <td>Float</td>\n",
       "      <td>Source jitter (mSec)</td>\n",
       "    </tr>\n",
       "    <tr>\n",
       "      <th>27</th>\n",
       "      <td>Djit</td>\n",
       "      <td>Float</td>\n",
       "      <td>Destination jitter (mSec)</td>\n",
       "    </tr>\n",
       "    <tr>\n",
       "      <th>28</th>\n",
       "      <td>Stime</td>\n",
       "      <td>Timestamp</td>\n",
       "      <td>record start time</td>\n",
       "    </tr>\n",
       "    <tr>\n",
       "      <th>29</th>\n",
       "      <td>Ltime</td>\n",
       "      <td>Timestamp</td>\n",
       "      <td>record last time</td>\n",
       "    </tr>\n",
       "    <tr>\n",
       "      <th>30</th>\n",
       "      <td>Sintpkt</td>\n",
       "      <td>Float</td>\n",
       "      <td>Source interpacket arrival time (mSec)</td>\n",
       "    </tr>\n",
       "    <tr>\n",
       "      <th>31</th>\n",
       "      <td>Dintpkt</td>\n",
       "      <td>Float</td>\n",
       "      <td>Destination interpacket arrival time (mSec)</td>\n",
       "    </tr>\n",
       "    <tr>\n",
       "      <th>32</th>\n",
       "      <td>tcprtt</td>\n",
       "      <td>Float</td>\n",
       "      <td>TCP connection setup round-trip time, the sum ...</td>\n",
       "    </tr>\n",
       "    <tr>\n",
       "      <th>33</th>\n",
       "      <td>synack</td>\n",
       "      <td>Float</td>\n",
       "      <td>TCP connection setup time, the time between th...</td>\n",
       "    </tr>\n",
       "    <tr>\n",
       "      <th>34</th>\n",
       "      <td>ackdat</td>\n",
       "      <td>Float</td>\n",
       "      <td>TCP connection setup time, the time between th...</td>\n",
       "    </tr>\n",
       "    <tr>\n",
       "      <th>35</th>\n",
       "      <td>is_sm_ips_ports</td>\n",
       "      <td>Binary</td>\n",
       "      <td>If source (1) and destination (3)IP addresses ...</td>\n",
       "    </tr>\n",
       "    <tr>\n",
       "      <th>36</th>\n",
       "      <td>ct_state_ttl</td>\n",
       "      <td>Integer</td>\n",
       "      <td>No. for each state (6) according to specific r...</td>\n",
       "    </tr>\n",
       "    <tr>\n",
       "      <th>37</th>\n",
       "      <td>ct_flw_http_mthd</td>\n",
       "      <td>Integer</td>\n",
       "      <td>No. of flows that has methods such as Get and ...</td>\n",
       "    </tr>\n",
       "    <tr>\n",
       "      <th>38</th>\n",
       "      <td>is_ftp_login</td>\n",
       "      <td>Binary</td>\n",
       "      <td>If the ftp session is accessed by user and pas...</td>\n",
       "    </tr>\n",
       "    <tr>\n",
       "      <th>39</th>\n",
       "      <td>ct_ftp_cmd</td>\n",
       "      <td>integer</td>\n",
       "      <td>No of flows that has a command in ftp session.</td>\n",
       "    </tr>\n",
       "    <tr>\n",
       "      <th>40</th>\n",
       "      <td>ct_srv_src</td>\n",
       "      <td>integer</td>\n",
       "      <td>No. of connections that contain the same servi...</td>\n",
       "    </tr>\n",
       "    <tr>\n",
       "      <th>41</th>\n",
       "      <td>ct_srv_dst</td>\n",
       "      <td>integer</td>\n",
       "      <td>No. of connections that contain the same servi...</td>\n",
       "    </tr>\n",
       "    <tr>\n",
       "      <th>42</th>\n",
       "      <td>ct_dst_ltm</td>\n",
       "      <td>integer</td>\n",
       "      <td>No. of connections of the same destination add...</td>\n",
       "    </tr>\n",
       "    <tr>\n",
       "      <th>43</th>\n",
       "      <td>ct_src_ ltm</td>\n",
       "      <td>integer</td>\n",
       "      <td>No. of connections of the same source address ...</td>\n",
       "    </tr>\n",
       "    <tr>\n",
       "      <th>44</th>\n",
       "      <td>ct_src_dport_ltm</td>\n",
       "      <td>integer</td>\n",
       "      <td>No of connections of the same source address (...</td>\n",
       "    </tr>\n",
       "    <tr>\n",
       "      <th>45</th>\n",
       "      <td>ct_dst_sport_ltm</td>\n",
       "      <td>integer</td>\n",
       "      <td>No of connections of the same destination addr...</td>\n",
       "    </tr>\n",
       "    <tr>\n",
       "      <th>46</th>\n",
       "      <td>ct_dst_src_ltm</td>\n",
       "      <td>integer</td>\n",
       "      <td>No of connections of the same source (1) and t...</td>\n",
       "    </tr>\n",
       "    <tr>\n",
       "      <th>47</th>\n",
       "      <td>attack_cat</td>\n",
       "      <td>nominal</td>\n",
       "      <td>The name of each attack category. In this data...</td>\n",
       "    </tr>\n",
       "    <tr>\n",
       "      <th>48</th>\n",
       "      <td>Label</td>\n",
       "      <td>binary</td>\n",
       "      <td>0 for normal and 1 for attack records</td>\n",
       "    </tr>\n",
       "  </tbody>\n",
       "</table>\n",
       "</div>"
      ],
      "text/plain": [
       "                Name      Type   \\\n",
       "0              srcip    nominal   \n",
       "1              sport    integer   \n",
       "2              dstip    nominal   \n",
       "3             dsport    integer   \n",
       "4              proto    nominal   \n",
       "5              state    nominal   \n",
       "6                dur      Float   \n",
       "7             sbytes    Integer   \n",
       "8             dbytes    Integer   \n",
       "9               sttl    Integer   \n",
       "10              dttl    Integer   \n",
       "11             sloss    Integer   \n",
       "12             dloss    Integer   \n",
       "13           service    nominal   \n",
       "14             Sload      Float   \n",
       "15             Dload      Float   \n",
       "16             Spkts    integer   \n",
       "17             Dpkts    integer   \n",
       "18              swin    integer   \n",
       "19              dwin    integer   \n",
       "20             stcpb    integer   \n",
       "21             dtcpb    integer   \n",
       "22           smeansz    integer   \n",
       "23           dmeansz    integer   \n",
       "24       trans_depth    integer   \n",
       "25       res_bdy_len    integer   \n",
       "26              Sjit      Float   \n",
       "27              Djit      Float   \n",
       "28             Stime  Timestamp   \n",
       "29             Ltime  Timestamp   \n",
       "30           Sintpkt      Float   \n",
       "31           Dintpkt      Float   \n",
       "32            tcprtt      Float   \n",
       "33            synack      Float   \n",
       "34            ackdat      Float   \n",
       "35   is_sm_ips_ports     Binary   \n",
       "36      ct_state_ttl    Integer   \n",
       "37  ct_flw_http_mthd    Integer   \n",
       "38      is_ftp_login     Binary   \n",
       "39        ct_ftp_cmd    integer   \n",
       "40        ct_srv_src    integer   \n",
       "41        ct_srv_dst    integer   \n",
       "42        ct_dst_ltm    integer   \n",
       "43       ct_src_ ltm    integer   \n",
       "44  ct_src_dport_ltm    integer   \n",
       "45  ct_dst_sport_ltm    integer   \n",
       "46    ct_dst_src_ltm    integer   \n",
       "47        attack_cat    nominal   \n",
       "48             Label     binary   \n",
       "\n",
       "                                          Description  \n",
       "0                                   Source IP address  \n",
       "1                                  Source port number  \n",
       "2                              Destination IP address  \n",
       "3                             Destination port number  \n",
       "4                                Transaction protocol  \n",
       "5   Indicates to the state and its dependent proto...  \n",
       "6                               Record total duration  \n",
       "7            Source to destination transaction bytes   \n",
       "8             Destination to source transaction bytes  \n",
       "9           Source to destination time to live value   \n",
       "10           Destination to source time to live value  \n",
       "11           Source packets retransmitted or dropped   \n",
       "12       Destination packets retransmitted or dropped  \n",
       "13  http, ftp, smtp, ssh, dns, ftp-data ,irc  and ...  \n",
       "14                             Source bits per second  \n",
       "15                        Destination bits per second  \n",
       "16                Source to destination packet count   \n",
       "17                 Destination to source packet count  \n",
       "18              Source TCP window advertisement value  \n",
       "19         Destination TCP window advertisement value  \n",
       "20                    Source TCP base sequence number  \n",
       "21               Destination TCP base sequence number  \n",
       "22  Mean of the ?ow packet size transmitted by the...  \n",
       "23  Mean of the ?ow packet size transmitted by the...  \n",
       "24  Represents the pipelined depth into the connec...  \n",
       "25  Actual uncompressed content size of the data t...  \n",
       "26                               Source jitter (mSec)  \n",
       "27                          Destination jitter (mSec)  \n",
       "28                                  record start time  \n",
       "29                                   record last time  \n",
       "30             Source interpacket arrival time (mSec)  \n",
       "31        Destination interpacket arrival time (mSec)  \n",
       "32  TCP connection setup round-trip time, the sum ...  \n",
       "33  TCP connection setup time, the time between th...  \n",
       "34  TCP connection setup time, the time between th...  \n",
       "35  If source (1) and destination (3)IP addresses ...  \n",
       "36  No. for each state (6) according to specific r...  \n",
       "37  No. of flows that has methods such as Get and ...  \n",
       "38  If the ftp session is accessed by user and pas...  \n",
       "39     No of flows that has a command in ftp session.  \n",
       "40  No. of connections that contain the same servi...  \n",
       "41  No. of connections that contain the same servi...  \n",
       "42  No. of connections of the same destination add...  \n",
       "43  No. of connections of the same source address ...  \n",
       "44  No of connections of the same source address (...  \n",
       "45  No of connections of the same destination addr...  \n",
       "46  No of connections of the same source (1) and t...  \n",
       "47  The name of each attack category. In this data...  \n",
       "48              0 for normal and 1 for attack records  "
      ]
     },
     "execution_count": 3,
     "metadata": {},
     "output_type": "execute_result"
    }
   ],
   "source": [
    "data_features = pd.read_csv('UNSW_NB15_features.csv')\n",
    "data_features.head(50)"
   ]
  },
  {
   "cell_type": "code",
   "execution_count": 4,
   "metadata": {
    "scrolled": true
   },
   "outputs": [
    {
     "name": "stdout",
     "output_type": "stream",
     "text": [
      "<class 'pandas.core.frame.DataFrame'>\n",
      "RangeIndex: 175341 entries, 0 to 175340\n",
      "Data columns (total 45 columns):\n",
      " #   Column             Non-Null Count   Dtype  \n",
      "---  ------             --------------   -----  \n",
      " 0   id                 175341 non-null  int64  \n",
      " 1   dur                175341 non-null  float64\n",
      " 2   proto              175341 non-null  object \n",
      " 3   service            175341 non-null  object \n",
      " 4   state              175341 non-null  object \n",
      " 5   spkts              175341 non-null  int64  \n",
      " 6   dpkts              175341 non-null  int64  \n",
      " 7   sbytes             175341 non-null  int64  \n",
      " 8   dbytes             175341 non-null  int64  \n",
      " 9   rate               175341 non-null  float64\n",
      " 10  sttl               175341 non-null  int64  \n",
      " 11  dttl               175341 non-null  int64  \n",
      " 12  sload              175341 non-null  float64\n",
      " 13  dload              175341 non-null  float64\n",
      " 14  sloss              175341 non-null  int64  \n",
      " 15  dloss              175341 non-null  int64  \n",
      " 16  sinpkt             175341 non-null  float64\n",
      " 17  dinpkt             175341 non-null  float64\n",
      " 18  sjit               175341 non-null  float64\n",
      " 19  djit               175341 non-null  float64\n",
      " 20  swin               175341 non-null  int64  \n",
      " 21  stcpb              175341 non-null  int64  \n",
      " 22  dtcpb              175341 non-null  int64  \n",
      " 23  dwin               175341 non-null  int64  \n",
      " 24  tcprtt             175341 non-null  float64\n",
      " 25  synack             175341 non-null  float64\n",
      " 26  ackdat             175341 non-null  float64\n",
      " 27  smean              175341 non-null  int64  \n",
      " 28  dmean              175341 non-null  int64  \n",
      " 29  trans_depth        175341 non-null  int64  \n",
      " 30  response_body_len  175341 non-null  int64  \n",
      " 31  ct_srv_src         175341 non-null  int64  \n",
      " 32  ct_state_ttl       175341 non-null  int64  \n",
      " 33  ct_dst_ltm         175341 non-null  int64  \n",
      " 34  ct_src_dport_ltm   175341 non-null  int64  \n",
      " 35  ct_dst_sport_ltm   175341 non-null  int64  \n",
      " 36  ct_dst_src_ltm     175341 non-null  int64  \n",
      " 37  is_ftp_login       175341 non-null  int64  \n",
      " 38  ct_ftp_cmd         175341 non-null  int64  \n",
      " 39  ct_flw_http_mthd   175341 non-null  int64  \n",
      " 40  ct_src_ltm         175341 non-null  int64  \n",
      " 41  ct_srv_dst         175341 non-null  int64  \n",
      " 42  is_sm_ips_ports    175341 non-null  int64  \n",
      " 43  attack_cat         175341 non-null  object \n",
      " 44  label              175341 non-null  int64  \n",
      "dtypes: float64(11), int64(30), object(4)\n",
      "memory usage: 60.2+ MB\n"
     ]
    }
   ],
   "source": [
    "initial_data.info()"
   ]
  },
  {
   "cell_type": "code",
   "execution_count": 5,
   "metadata": {
    "scrolled": true
   },
   "outputs": [
    {
     "data": {
      "text/html": [
       "<div>\n",
       "<style scoped>\n",
       "    .dataframe tbody tr th:only-of-type {\n",
       "        vertical-align: middle;\n",
       "    }\n",
       "\n",
       "    .dataframe tbody tr th {\n",
       "        vertical-align: top;\n",
       "    }\n",
       "\n",
       "    .dataframe thead th {\n",
       "        text-align: right;\n",
       "    }\n",
       "</style>\n",
       "<table border=\"1\" class=\"dataframe\">\n",
       "  <thead>\n",
       "    <tr style=\"text-align: right;\">\n",
       "      <th></th>\n",
       "      <th>id</th>\n",
       "      <th>dur</th>\n",
       "      <th>spkts</th>\n",
       "      <th>dpkts</th>\n",
       "      <th>sbytes</th>\n",
       "      <th>dbytes</th>\n",
       "      <th>rate</th>\n",
       "      <th>sttl</th>\n",
       "      <th>dttl</th>\n",
       "      <th>sload</th>\n",
       "      <th>...</th>\n",
       "      <th>ct_src_dport_ltm</th>\n",
       "      <th>ct_dst_sport_ltm</th>\n",
       "      <th>ct_dst_src_ltm</th>\n",
       "      <th>is_ftp_login</th>\n",
       "      <th>ct_ftp_cmd</th>\n",
       "      <th>ct_flw_http_mthd</th>\n",
       "      <th>ct_src_ltm</th>\n",
       "      <th>ct_srv_dst</th>\n",
       "      <th>is_sm_ips_ports</th>\n",
       "      <th>label</th>\n",
       "    </tr>\n",
       "  </thead>\n",
       "  <tbody>\n",
       "    <tr>\n",
       "      <th>count</th>\n",
       "      <td>175341.000000</td>\n",
       "      <td>175341.000000</td>\n",
       "      <td>175341.000000</td>\n",
       "      <td>175341.000000</td>\n",
       "      <td>1.753410e+05</td>\n",
       "      <td>1.753410e+05</td>\n",
       "      <td>1.753410e+05</td>\n",
       "      <td>175341.000000</td>\n",
       "      <td>175341.000000</td>\n",
       "      <td>1.753410e+05</td>\n",
       "      <td>...</td>\n",
       "      <td>175341.000000</td>\n",
       "      <td>175341.000000</td>\n",
       "      <td>175341.000000</td>\n",
       "      <td>175341.000000</td>\n",
       "      <td>175341.000000</td>\n",
       "      <td>175341.000000</td>\n",
       "      <td>175341.000000</td>\n",
       "      <td>175341.000000</td>\n",
       "      <td>175341.000000</td>\n",
       "      <td>175341.000000</td>\n",
       "    </tr>\n",
       "    <tr>\n",
       "      <th>mean</th>\n",
       "      <td>87671.000000</td>\n",
       "      <td>1.359389</td>\n",
       "      <td>20.298664</td>\n",
       "      <td>18.969591</td>\n",
       "      <td>8.844844e+03</td>\n",
       "      <td>1.492892e+04</td>\n",
       "      <td>9.540619e+04</td>\n",
       "      <td>179.546997</td>\n",
       "      <td>79.609567</td>\n",
       "      <td>7.345403e+07</td>\n",
       "      <td>...</td>\n",
       "      <td>5.383538</td>\n",
       "      <td>4.206255</td>\n",
       "      <td>8.729881</td>\n",
       "      <td>0.014948</td>\n",
       "      <td>0.014948</td>\n",
       "      <td>0.133066</td>\n",
       "      <td>6.955789</td>\n",
       "      <td>9.100758</td>\n",
       "      <td>0.015752</td>\n",
       "      <td>0.680622</td>\n",
       "    </tr>\n",
       "    <tr>\n",
       "      <th>std</th>\n",
       "      <td>50616.731112</td>\n",
       "      <td>6.480249</td>\n",
       "      <td>136.887597</td>\n",
       "      <td>110.258271</td>\n",
       "      <td>1.747656e+05</td>\n",
       "      <td>1.436542e+05</td>\n",
       "      <td>1.654010e+05</td>\n",
       "      <td>102.940011</td>\n",
       "      <td>110.506863</td>\n",
       "      <td>1.883574e+08</td>\n",
       "      <td>...</td>\n",
       "      <td>8.047104</td>\n",
       "      <td>5.783585</td>\n",
       "      <td>10.956186</td>\n",
       "      <td>0.126048</td>\n",
       "      <td>0.126048</td>\n",
       "      <td>0.701208</td>\n",
       "      <td>8.321493</td>\n",
       "      <td>10.756952</td>\n",
       "      <td>0.124516</td>\n",
       "      <td>0.466237</td>\n",
       "    </tr>\n",
       "    <tr>\n",
       "      <th>min</th>\n",
       "      <td>1.000000</td>\n",
       "      <td>0.000000</td>\n",
       "      <td>1.000000</td>\n",
       "      <td>0.000000</td>\n",
       "      <td>2.800000e+01</td>\n",
       "      <td>0.000000e+00</td>\n",
       "      <td>0.000000e+00</td>\n",
       "      <td>0.000000</td>\n",
       "      <td>0.000000</td>\n",
       "      <td>0.000000e+00</td>\n",
       "      <td>...</td>\n",
       "      <td>1.000000</td>\n",
       "      <td>1.000000</td>\n",
       "      <td>1.000000</td>\n",
       "      <td>0.000000</td>\n",
       "      <td>0.000000</td>\n",
       "      <td>0.000000</td>\n",
       "      <td>1.000000</td>\n",
       "      <td>1.000000</td>\n",
       "      <td>0.000000</td>\n",
       "      <td>0.000000</td>\n",
       "    </tr>\n",
       "    <tr>\n",
       "      <th>25%</th>\n",
       "      <td>43836.000000</td>\n",
       "      <td>0.000008</td>\n",
       "      <td>2.000000</td>\n",
       "      <td>0.000000</td>\n",
       "      <td>1.140000e+02</td>\n",
       "      <td>0.000000e+00</td>\n",
       "      <td>3.278614e+01</td>\n",
       "      <td>62.000000</td>\n",
       "      <td>0.000000</td>\n",
       "      <td>1.305334e+04</td>\n",
       "      <td>...</td>\n",
       "      <td>1.000000</td>\n",
       "      <td>1.000000</td>\n",
       "      <td>1.000000</td>\n",
       "      <td>0.000000</td>\n",
       "      <td>0.000000</td>\n",
       "      <td>0.000000</td>\n",
       "      <td>2.000000</td>\n",
       "      <td>2.000000</td>\n",
       "      <td>0.000000</td>\n",
       "      <td>0.000000</td>\n",
       "    </tr>\n",
       "    <tr>\n",
       "      <th>50%</th>\n",
       "      <td>87671.000000</td>\n",
       "      <td>0.001582</td>\n",
       "      <td>2.000000</td>\n",
       "      <td>2.000000</td>\n",
       "      <td>4.300000e+02</td>\n",
       "      <td>1.640000e+02</td>\n",
       "      <td>3.225807e+03</td>\n",
       "      <td>254.000000</td>\n",
       "      <td>29.000000</td>\n",
       "      <td>8.796748e+05</td>\n",
       "      <td>...</td>\n",
       "      <td>1.000000</td>\n",
       "      <td>1.000000</td>\n",
       "      <td>3.000000</td>\n",
       "      <td>0.000000</td>\n",
       "      <td>0.000000</td>\n",
       "      <td>0.000000</td>\n",
       "      <td>3.000000</td>\n",
       "      <td>4.000000</td>\n",
       "      <td>0.000000</td>\n",
       "      <td>1.000000</td>\n",
       "    </tr>\n",
       "    <tr>\n",
       "      <th>75%</th>\n",
       "      <td>131506.000000</td>\n",
       "      <td>0.668069</td>\n",
       "      <td>12.000000</td>\n",
       "      <td>10.000000</td>\n",
       "      <td>1.418000e+03</td>\n",
       "      <td>1.102000e+03</td>\n",
       "      <td>1.250000e+05</td>\n",
       "      <td>254.000000</td>\n",
       "      <td>252.000000</td>\n",
       "      <td>8.888889e+07</td>\n",
       "      <td>...</td>\n",
       "      <td>5.000000</td>\n",
       "      <td>3.000000</td>\n",
       "      <td>12.000000</td>\n",
       "      <td>0.000000</td>\n",
       "      <td>0.000000</td>\n",
       "      <td>0.000000</td>\n",
       "      <td>9.000000</td>\n",
       "      <td>12.000000</td>\n",
       "      <td>0.000000</td>\n",
       "      <td>1.000000</td>\n",
       "    </tr>\n",
       "    <tr>\n",
       "      <th>max</th>\n",
       "      <td>175341.000000</td>\n",
       "      <td>59.999989</td>\n",
       "      <td>9616.000000</td>\n",
       "      <td>10974.000000</td>\n",
       "      <td>1.296523e+07</td>\n",
       "      <td>1.465555e+07</td>\n",
       "      <td>1.000000e+06</td>\n",
       "      <td>255.000000</td>\n",
       "      <td>254.000000</td>\n",
       "      <td>5.988000e+09</td>\n",
       "      <td>...</td>\n",
       "      <td>51.000000</td>\n",
       "      <td>46.000000</td>\n",
       "      <td>65.000000</td>\n",
       "      <td>4.000000</td>\n",
       "      <td>4.000000</td>\n",
       "      <td>30.000000</td>\n",
       "      <td>60.000000</td>\n",
       "      <td>62.000000</td>\n",
       "      <td>1.000000</td>\n",
       "      <td>1.000000</td>\n",
       "    </tr>\n",
       "  </tbody>\n",
       "</table>\n",
       "<p>8 rows × 41 columns</p>\n",
       "</div>"
      ],
      "text/plain": [
       "                  id            dur          spkts          dpkts  \\\n",
       "count  175341.000000  175341.000000  175341.000000  175341.000000   \n",
       "mean    87671.000000       1.359389      20.298664      18.969591   \n",
       "std     50616.731112       6.480249     136.887597     110.258271   \n",
       "min         1.000000       0.000000       1.000000       0.000000   \n",
       "25%     43836.000000       0.000008       2.000000       0.000000   \n",
       "50%     87671.000000       0.001582       2.000000       2.000000   \n",
       "75%    131506.000000       0.668069      12.000000      10.000000   \n",
       "max    175341.000000      59.999989    9616.000000   10974.000000   \n",
       "\n",
       "             sbytes        dbytes          rate           sttl           dttl  \\\n",
       "count  1.753410e+05  1.753410e+05  1.753410e+05  175341.000000  175341.000000   \n",
       "mean   8.844844e+03  1.492892e+04  9.540619e+04     179.546997      79.609567   \n",
       "std    1.747656e+05  1.436542e+05  1.654010e+05     102.940011     110.506863   \n",
       "min    2.800000e+01  0.000000e+00  0.000000e+00       0.000000       0.000000   \n",
       "25%    1.140000e+02  0.000000e+00  3.278614e+01      62.000000       0.000000   \n",
       "50%    4.300000e+02  1.640000e+02  3.225807e+03     254.000000      29.000000   \n",
       "75%    1.418000e+03  1.102000e+03  1.250000e+05     254.000000     252.000000   \n",
       "max    1.296523e+07  1.465555e+07  1.000000e+06     255.000000     254.000000   \n",
       "\n",
       "              sload  ...  ct_src_dport_ltm  ct_dst_sport_ltm  ct_dst_src_ltm  \\\n",
       "count  1.753410e+05  ...     175341.000000     175341.000000   175341.000000   \n",
       "mean   7.345403e+07  ...          5.383538          4.206255        8.729881   \n",
       "std    1.883574e+08  ...          8.047104          5.783585       10.956186   \n",
       "min    0.000000e+00  ...          1.000000          1.000000        1.000000   \n",
       "25%    1.305334e+04  ...          1.000000          1.000000        1.000000   \n",
       "50%    8.796748e+05  ...          1.000000          1.000000        3.000000   \n",
       "75%    8.888889e+07  ...          5.000000          3.000000       12.000000   \n",
       "max    5.988000e+09  ...         51.000000         46.000000       65.000000   \n",
       "\n",
       "        is_ftp_login     ct_ftp_cmd  ct_flw_http_mthd     ct_src_ltm  \\\n",
       "count  175341.000000  175341.000000     175341.000000  175341.000000   \n",
       "mean        0.014948       0.014948          0.133066       6.955789   \n",
       "std         0.126048       0.126048          0.701208       8.321493   \n",
       "min         0.000000       0.000000          0.000000       1.000000   \n",
       "25%         0.000000       0.000000          0.000000       2.000000   \n",
       "50%         0.000000       0.000000          0.000000       3.000000   \n",
       "75%         0.000000       0.000000          0.000000       9.000000   \n",
       "max         4.000000       4.000000         30.000000      60.000000   \n",
       "\n",
       "          ct_srv_dst  is_sm_ips_ports          label  \n",
       "count  175341.000000    175341.000000  175341.000000  \n",
       "mean        9.100758         0.015752       0.680622  \n",
       "std        10.756952         0.124516       0.466237  \n",
       "min         1.000000         0.000000       0.000000  \n",
       "25%         2.000000         0.000000       0.000000  \n",
       "50%         4.000000         0.000000       1.000000  \n",
       "75%        12.000000         0.000000       1.000000  \n",
       "max        62.000000         1.000000       1.000000  \n",
       "\n",
       "[8 rows x 41 columns]"
      ]
     },
     "execution_count": 5,
     "metadata": {},
     "output_type": "execute_result"
    }
   ],
   "source": [
    "initial_data.describe()"
   ]
  },
  {
   "cell_type": "markdown",
   "metadata": {},
   "source": [
    "### Data Pre processing"
   ]
  },
  {
   "cell_type": "code",
   "execution_count": 6,
   "metadata": {
    "scrolled": true
   },
   "outputs": [
    {
     "data": {
      "text/plain": [
       "id                   0\n",
       "dur                  0\n",
       "proto                0\n",
       "service              0\n",
       "state                0\n",
       "spkts                0\n",
       "dpkts                0\n",
       "sbytes               0\n",
       "dbytes               0\n",
       "rate                 0\n",
       "sttl                 0\n",
       "dttl                 0\n",
       "sload                0\n",
       "dload                0\n",
       "sloss                0\n",
       "dloss                0\n",
       "sinpkt               0\n",
       "dinpkt               0\n",
       "sjit                 0\n",
       "djit                 0\n",
       "swin                 0\n",
       "stcpb                0\n",
       "dtcpb                0\n",
       "dwin                 0\n",
       "tcprtt               0\n",
       "synack               0\n",
       "ackdat               0\n",
       "smean                0\n",
       "dmean                0\n",
       "trans_depth          0\n",
       "response_body_len    0\n",
       "ct_srv_src           0\n",
       "ct_state_ttl         0\n",
       "ct_dst_ltm           0\n",
       "ct_src_dport_ltm     0\n",
       "ct_dst_sport_ltm     0\n",
       "ct_dst_src_ltm       0\n",
       "is_ftp_login         0\n",
       "ct_ftp_cmd           0\n",
       "ct_flw_http_mthd     0\n",
       "ct_src_ltm           0\n",
       "ct_srv_dst           0\n",
       "is_sm_ips_ports      0\n",
       "attack_cat           0\n",
       "label                0\n",
       "dtype: int64"
      ]
     },
     "execution_count": 6,
     "metadata": {},
     "output_type": "execute_result"
    }
   ],
   "source": [
    "# check if there are Null values\n",
    "initial_data.isnull().sum()"
   ]
  },
  {
   "cell_type": "code",
   "execution_count": 7,
   "metadata": {},
   "outputs": [
    {
     "data": {
      "text/plain": [
       "(175341, 41)"
      ]
     },
     "execution_count": 7,
     "metadata": {},
     "output_type": "execute_result"
    }
   ],
   "source": [
    "# Discard the rows with missing values\n",
    "data_to_use = initial_data.dropna()\n",
    "\n",
    "# Discard unnessary coloumns\n",
    "data_to_use = initial_data.drop(axis=1, columns=['id','proto','service','state'])\n",
    "\n",
    "data_to_use.shape"
   ]
  },
  {
   "cell_type": "markdown",
   "metadata": {},
   "source": [
    "### Splitting X and y"
   ]
  },
  {
   "cell_type": "code",
   "execution_count": 8,
   "metadata": {},
   "outputs": [],
   "source": [
    "X = data_to_use.drop(axis=1, columns=['attack_cat']) \n",
    "X = X.drop(axis=1, columns=['label'])\n",
    "\n",
    "y1 = data_to_use['attack_cat'].values\n",
    "y2 = data_to_use['label'].values"
   ]
  },
  {
   "cell_type": "code",
   "execution_count": 9,
   "metadata": {},
   "outputs": [],
   "source": [
    "# Calculate Y2 ratio\n",
    "def data_ratio(y2):\n",
    "    unique, count = np.unique(y2, return_counts=True)\n",
    "    ratio = round(count[0]/count[1], 1)\n",
    "    return f'{ratio}:1 ({count[0]}/{count[1]})'"
   ]
  },
  {
   "cell_type": "code",
   "execution_count": 10,
   "metadata": {},
   "outputs": [
    {
     "data": {
      "image/png": "[encoded data removed]",
      "text/plain": [
       "<Figure size 936x360 with 1 Axes>"
      ]
     },
     "metadata": {
      "needs_background": "light"
     },
     "output_type": "display_data"
    },
    {
     "name": "stdout",
     "output_type": "stream",
     "text": [
      "The class ratio for the original data: 0.5:1 (56000/119341)\n"
     ]
    },
    {
     "data": {
      "image/png": "[encoded data removed]",
      "text/plain": [
       "<Figure size 432x288 with 1 Axes>"
      ]
     },
     "metadata": {
      "needs_background": "light"
     },
     "output_type": "display_data"
    }
   ],
   "source": [
    "warnings.simplefilter(action=\"ignore\", category=FutureWarning)\n",
    "\n",
    "plt.figure(figsize=(13,5))\n",
    "sns.countplot(y1,label=\"Sum\")\n",
    "#sns.countplot(y1)\n",
    "\n",
    "plt.show()\n",
    "\n",
    "print('The class ratio for the original data:', data_ratio(y2))\n",
    "sns.countplot(y2,label=\"Sum\")\n",
    "plt.show()"
   ]
  },
  {
   "cell_type": "code",
   "execution_count": 11,
   "metadata": {},
   "outputs": [],
   "source": [
    "## Split data "
   ]
  },
  {
   "cell_type": "code",
   "execution_count": 12,
   "metadata": {},
   "outputs": [],
   "source": [
    "# Load test data\n",
    "test_data = pd.read_csv('UNSW_NB15_testing.csv')\n",
    "X_test = test_data.drop(axis=1, columns=['attack_cat']) # X_test is a dataframe\n",
    "X_test = X_test.drop(axis=1, columns=['label'])\n",
    "\n",
    "y1_test = test_data['attack_cat'].values # y is an array\n",
    "y2_test = test_data['label'].values\n",
    "X_train = X\n",
    "y1_train = y1\n",
    "y2_train = y2"
   ]
  },
  {
   "cell_type": "code",
   "execution_count": 13,
   "metadata": {},
   "outputs": [],
   "source": [
    "numerical_cols = X_train.select_dtypes(include=['int64', 'float64']).columns\n",
    "categorical_cols = X_train.select_dtypes(include=['object', 'bool']).columns"
   ]
  },
  {
   "cell_type": "code",
   "execution_count": 14,
   "metadata": {},
   "outputs": [
    {
     "data": {
      "text/plain": [
       "Index(['dur', 'spkts', 'dpkts', 'sbytes', 'dbytes', 'rate', 'sttl', 'dttl',\n",
       "       'sload', 'dload', 'sloss', 'dloss', 'sinpkt', 'dinpkt', 'sjit', 'djit',\n",
       "       'swin', 'stcpb', 'dtcpb', 'dwin', 'tcprtt', 'synack', 'ackdat', 'smean',\n",
       "       'dmean', 'trans_depth', 'response_body_len', 'ct_srv_src',\n",
       "       'ct_state_ttl', 'ct_dst_ltm', 'ct_src_dport_ltm', 'ct_dst_sport_ltm',\n",
       "       'ct_dst_src_ltm', 'is_ftp_login', 'ct_ftp_cmd', 'ct_flw_http_mthd',\n",
       "       'ct_src_ltm', 'ct_srv_dst', 'is_sm_ips_ports'],\n",
       "      dtype='object')"
      ]
     },
     "execution_count": 14,
     "metadata": {},
     "output_type": "execute_result"
    }
   ],
   "source": [
    "numerical_cols"
   ]
  },
  {
   "cell_type": "code",
   "execution_count": 15,
   "metadata": {
    "slideshow": {
     "slide_type": "fragment"
    }
   },
   "outputs": [
    {
     "data": {
      "text/plain": [
       "Index([], dtype='object')"
      ]
     },
     "execution_count": 15,
     "metadata": {},
     "output_type": "execute_result"
    }
   ],
   "source": [
    "categorical_cols"
   ]
  },
  {
   "cell_type": "markdown",
   "metadata": {},
   "source": [
    "### Transforming X "
   ]
  },
  {
   "cell_type": "code",
   "execution_count": 16,
   "metadata": {},
   "outputs": [
    {
     "data": {
      "text/plain": [
       "ColumnTransformer(transformers=[('ohe', OneHotEncoder(drop='first'),\n",
       "                                 Index([], dtype='object')),\n",
       "                                ('scale', StandardScaler(),\n",
       "                                 Index(['dur', 'spkts', 'dpkts', 'sbytes', 'dbytes', 'rate', 'sttl', 'dttl',\n",
       "       'sload', 'dload', 'sloss', 'dloss', 'sinpkt', 'dinpkt', 'sjit', 'djit',\n",
       "       'swin', 'stcpb', 'dtcpb', 'dwin', 'tcprtt', 'synack', 'ackdat', 'smean',\n",
       "       'dmean', 'trans_depth', 'response_body_len', 'ct_srv_src',\n",
       "       'ct_state_ttl', 'ct_dst_ltm', 'ct_src_dport_ltm', 'ct_dst_sport_ltm',\n",
       "       'ct_dst_src_ltm', 'is_ftp_login', 'ct_ftp_cmd', 'ct_flw_http_mthd',\n",
       "       'ct_src_ltm', 'ct_srv_dst', 'is_sm_ips_ports'],\n",
       "      dtype='object'))])"
      ]
     },
     "execution_count": 16,
     "metadata": {},
     "output_type": "execute_result"
    }
   ],
   "source": [
    "# transformation methods for the columns\n",
    "t = [('ohe', OneHotEncoder(drop='first'), categorical_cols),\n",
    "    ('scale', StandardScaler(), numerical_cols)]\n",
    "\n",
    "col_trans = ColumnTransformer(transformers=t)\n",
    "\n",
    "col_trans.fit(X_train)"
   ]
  },
  {
   "cell_type": "code",
   "execution_count": 17,
   "metadata": {},
   "outputs": [
    {
     "data": {
      "text/plain": [
       "(175341, 39)"
      ]
     },
     "execution_count": 17,
     "metadata": {},
     "output_type": "execute_result"
    }
   ],
   "source": [
    "X_train_transform = col_trans.transform(X_train)\n",
    "X_train_transform.shape"
   ]
  },
  {
   "cell_type": "code",
   "execution_count": 18,
   "metadata": {},
   "outputs": [
    {
     "data": {
      "text/plain": [
       "(82332, 39)"
      ]
     },
     "execution_count": 18,
     "metadata": {},
     "output_type": "execute_result"
    }
   ],
   "source": [
    "X_test_transform = col_trans.transform(X_test)\n",
    "X_test_transform.shape"
   ]
  },
  {
   "cell_type": "markdown",
   "metadata": {},
   "source": [
    "### Transform Y"
   ]
  },
  {
   "cell_type": "markdown",
   "metadata": {},
   "source": [
    "#### y1"
   ]
  },
  {
   "cell_type": "code",
   "execution_count": 19,
   "metadata": {},
   "outputs": [
    {
     "data": {
      "text/plain": [
       "array(['Normal', 'Backdoor', 'Analysis', 'Fuzzers', 'Shellcode',\n",
       "       'Reconnaissance', 'Exploits', 'DoS', 'Worms', 'Generic'],\n",
       "      dtype=object)"
      ]
     },
     "execution_count": 19,
     "metadata": {},
     "output_type": "execute_result"
    }
   ],
   "source": [
    "pd.unique(y1)"
   ]
  },
  {
   "cell_type": "code",
   "execution_count": 20,
   "metadata": {},
   "outputs": [],
   "source": [
    "target_trans = LabelEncoder()\n",
    "target_trans.fit(y1_train)\n",
    "y1_train_transform = target_trans.transform(y1_train)\n",
    "y1_test_transform = target_trans.transform(y1_test)"
   ]
  },
  {
   "cell_type": "code",
   "execution_count": 21,
   "metadata": {},
   "outputs": [
    {
     "data": {
      "text/plain": [
       "array([6, 6, 6, ..., 5, 5, 5])"
      ]
     },
     "execution_count": 21,
     "metadata": {},
     "output_type": "execute_result"
    }
   ],
   "source": [
    "y1_train_transform"
   ]
  },
  {
   "cell_type": "markdown",
   "metadata": {},
   "source": [
    "#### y2"
   ]
  },
  {
   "cell_type": "code",
   "execution_count": 23,
   "metadata": {},
   "outputs": [
    {
     "data": {
      "text/plain": [
       "array([0, 1], dtype=int64)"
      ]
     },
     "execution_count": 23,
     "metadata": {},
     "output_type": "execute_result"
    }
   ],
   "source": [
    "pd.unique(y2)"
   ]
  },
  {
   "cell_type": "code",
   "execution_count": 24,
   "metadata": {},
   "outputs": [],
   "source": [
    "target_trans = LabelEncoder()\n",
    "target_trans.fit(y2_train)\n",
    "y2_train_transform = target_trans.transform(y2_train)\n",
    "y2_test_transform = target_trans.transform(y2_test)"
   ]
  },
  {
   "cell_type": "code",
   "execution_count": 25,
   "metadata": {},
   "outputs": [
    {
     "data": {
      "text/plain": [
       "array([0, 0, 0, ..., 1, 1, 1], dtype=int64)"
      ]
     },
     "execution_count": 25,
     "metadata": {},
     "output_type": "execute_result"
    }
   ],
   "source": [
    "y2_train_transform"
   ]
  },
  {
   "cell_type": "markdown",
   "metadata": {},
   "source": [
    "### Fitting ML model"
   ]
  },
  {
   "cell_type": "markdown",
   "metadata": {},
   "source": [
    "#### Target y2 - Attack or normal response"
   ]
  },
  {
   "cell_type": "code",
   "execution_count": 26,
   "metadata": {},
   "outputs": [
    {
     "name": "stdout",
     "output_type": "stream",
     "text": [
      "Accuracy: 0.7771826264392946\n",
      "F1 score: 0.8236685025519768\n"
     ]
    },
    {
     "name": "stderr",
     "output_type": "stream",
     "text": [
      "C:\\Users\\sheri\\anaconda3\\lib\\site-packages\\sklearn\\linear_model\\_logistic.py:764: ConvergenceWarning: lbfgs failed to converge (status=1):\n",
      "STOP: TOTAL NO. of ITERATIONS REACHED LIMIT.\n",
      "\n",
      "Increase the number of iterations (max_iter) or scale the data as shown in:\n",
      "    https://scikit-learn.org/stable/modules/preprocessing.html\n",
      "Please also refer to the documentation for alternative solver options:\n",
      "    https://scikit-learn.org/stable/modules/linear_model.html#logistic-regression\n",
      "  extra_warning_msg=_LOGISTIC_SOLVER_CONVERGENCE_MSG)\n"
     ]
    }
   ],
   "source": [
    "#logistic regression classifier\n",
    "LR = LogisticRegression()\n",
    "\n",
    "LR.fit(X_train_transform, y2_train_transform)\n",
    "\n",
    "y_pred_LR = LR.predict(X_test_transform)\n",
    "\n",
    "# accuracy of the classifier\n",
    "accuracy = accuracy_score(y2_test_transform, y_pred_LR)\n",
    "print(\"Accuracy:\", accuracy)\n",
    "f1 = f1_score(y2_test_transform, y_pred_LR)\n",
    "print(\"F1 score:\", f1)"
   ]
  },
  {
   "cell_type": "code",
   "execution_count": 27,
   "metadata": {},
   "outputs": [
    {
     "name": "stdout",
     "output_type": "stream",
     "text": [
      "Accuracy: 0.73311713550017\n",
      "F1 score: 0.7893187592885567\n"
     ]
    }
   ],
   "source": [
    "# Naive Bayes classifier\n",
    "NB = GaussianNB()\n",
    "\n",
    "NB.fit(X_train_transform, y2_train_transform)\n",
    "\n",
    "y_pred_NB = NB.predict(X_test_transform)\n",
    "\n",
    "# accuracy of the classifier\n",
    "accuracy = accuracy_score(y2_test_transform, y_pred_NB)\n",
    "print(\"Accuracy:\", accuracy)\n",
    "f1 = f1_score(y2_test_transform, y_pred_NB)\n",
    "print(\"F1 score:\", f1)"
   ]
  },
  {
   "cell_type": "code",
   "execution_count": 28,
   "metadata": {},
   "outputs": [
    {
     "name": "stdout",
     "output_type": "stream",
     "text": [
      "Accuracy: 0.8634431326823107\n",
      "F1 score: 0.8853024290217603\n"
     ]
    }
   ],
   "source": [
    "# Decision tree classifier\n",
    "DT = DecisionTreeClassifier()\n",
    "\n",
    "DT.fit(X_train_transform, y2_train_transform)\n",
    "\n",
    "y_pred_DT = DT.predict(X_test_transform)\n",
    "\n",
    "# accuracy of the classifier\n",
    "accuracy = accuracy_score(y2_test_transform, y_pred_DT)\n",
    "print(\"Accuracy:\", accuracy)\n",
    "f1 = f1_score(y2_test_transform, y_pred_DT)\n",
    "print(\"F1 score:\", f1)"
   ]
  },
  {
   "cell_type": "code",
   "execution_count": 63,
   "metadata": {},
   "outputs": [
    {
     "name": "stdout",
     "output_type": "stream",
     "text": [
      "Accuracy: 0.8723096730311422\n",
      "F1 score: 0.8946962488105374\n"
     ]
    }
   ],
   "source": [
    "# Random Forest classifier\n",
    "RR = RandomForestClassifier()\n",
    "\n",
    "RR.fit(X_train_transform, y2_train_transform)\n",
    "\n",
    "y_pred_RR = RR.predict(X_test_transform)\n",
    "\n",
    "# accuracy of the classifier\n",
    "accuracy = accuracy_score(y2_test_transform, y_pred_RR)\n",
    "print(\"Accuracy:\", accuracy)\n",
    "f1 = f1_score(y2_test_transform, y_pred_RR)\n",
    "print(\"F1 score:\", f1)"
   ]
  },
  {
   "cell_type": "markdown",
   "metadata": {},
   "source": [
    "#### Target y1 - Classification of type of attack"
   ]
  },
  {
   "cell_type": "code",
   "execution_count": 30,
   "metadata": {},
   "outputs": [
    {
     "name": "stdout",
     "output_type": "stream",
     "text": [
      "Accuracy: 0.737890492153719\n",
      "F1 score: 0.7628447880710836\n"
     ]
    }
   ],
   "source": [
    "# Decision tree classifier\n",
    "DT = DecisionTreeClassifier()\n",
    "\n",
    "DT.fit(X_train_transform, y1_train_transform)\n",
    "\n",
    "y1_pred_DT = DT.predict(X_test_transform)\n",
    "\n",
    "# accuracy of the classifier\n",
    "accuracy = accuracy_score(y1_test_transform, y1_pred_DT)\n",
    "print(\"Accuracy:\", accuracy)\n",
    "f1 = f1_score(y1_test_transform, y1_pred_DT,average='weighted')\n",
    "print(\"F1 score:\", f1)"
   ]
  },
  {
   "cell_type": "code",
   "execution_count": 31,
   "metadata": {},
   "outputs": [
    {
     "name": "stdout",
     "output_type": "stream",
     "text": [
      "Accuracy: 0.756716707962882\n",
      "F1 score: 0.7780102722301491\n"
     ]
    }
   ],
   "source": [
    "# Random Forest classifier\n",
    "RR = RandomForestClassifier()\n",
    "\n",
    "RR.fit(X_train_transform, y1_train_transform)\n",
    "\n",
    "y1_pred_RR = RR.predict(X_test_transform)\n",
    "\n",
    "# accuracy of the classifier\n",
    "accuracy = accuracy_score(y1_test_transform, y1_pred_RR)\n",
    "print(\"Accuracy:\", accuracy)\n",
    "f1 = f1_score(y1_test_transform, y1_pred_RR,average='weighted')\n",
    "print(\"F1 score:\", f1)"
   ]
  },
  {
   "cell_type": "markdown",
   "metadata": {},
   "source": [
    "### Freature importance"
   ]
  },
  {
   "cell_type": "code",
   "execution_count": 64,
   "metadata": {},
   "outputs": [
    {
     "data": {
      "text/plain": [
       "Index(['dur', 'spkts', 'dpkts', 'sbytes', 'dbytes', 'rate', 'sttl', 'dttl',\n",
       "       'sload', 'dload', 'sloss', 'dloss', 'sinpkt', 'dinpkt', 'sjit', 'djit',\n",
       "       'swin', 'stcpb', 'dtcpb', 'dwin', 'tcprtt', 'synack', 'ackdat', 'smean',\n",
       "       'dmean', 'trans_depth', 'response_body_len', 'ct_srv_src',\n",
       "       'ct_state_ttl', 'ct_dst_ltm', 'ct_src_dport_ltm', 'ct_dst_sport_ltm',\n",
       "       'ct_dst_src_ltm', 'is_ftp_login', 'ct_ftp_cmd', 'ct_flw_http_mthd',\n",
       "       'ct_src_ltm', 'ct_srv_dst', 'is_sm_ips_ports'],\n",
       "      dtype='object')"
      ]
     },
     "execution_count": 64,
     "metadata": {},
     "output_type": "execute_result"
    }
   ],
   "source": [
    "cols = X_train.columns\n",
    "cols"
   ]
  },
  {
   "cell_type": "code",
   "execution_count": 65,
   "metadata": {},
   "outputs": [
    {
     "name": "stdout",
     "output_type": "stream",
     "text": [
      "Feature [dur] : 0.036\n",
      "Feature [spkts] : 0.009\n",
      "Feature [dpkts] : 0.028\n",
      "Feature [sbytes] : 0.035\n",
      "Feature [dbytes] : 0.021\n",
      "Feature [rate] : 0.036\n",
      "Feature [sttl] : 0.189\n",
      "Feature [dttl] : 0.044\n",
      "Feature [sload] : 0.046\n",
      "Feature [dload] : 0.057\n",
      "Feature [sloss] : 0.007\n",
      "Feature [dloss] : 0.007\n",
      "Feature [sinpkt] : 0.019\n",
      "Feature [dinpkt] : 0.017\n",
      "Feature [sjit] : 0.011\n",
      "Feature [djit] : 0.011\n",
      "Feature [swin] : 0.004\n",
      "Feature [stcpb] : 0.008\n",
      "Feature [dtcpb] : 0.007\n",
      "Feature [dwin] : 0.001\n",
      "Feature [tcprtt] : 0.028\n",
      "Feature [synack] : 0.029\n",
      "Feature [ackdat] : 0.030\n",
      "Feature [smean] : 0.033\n",
      "Feature [dmean] : 0.044\n",
      "Feature [trans_depth] : 0.001\n",
      "Feature [response_body_len] : 0.002\n",
      "Feature [ct_srv_src] : 0.020\n",
      "Feature [ct_state_ttl] : 0.130\n",
      "Feature [ct_dst_ltm] : 0.007\n",
      "Feature [ct_src_dport_ltm] : 0.006\n",
      "Feature [ct_dst_sport_ltm] : 0.008\n",
      "Feature [ct_dst_src_ltm] : 0.022\n",
      "Feature [is_ftp_login] : 0.000\n",
      "Feature [ct_ftp_cmd] : 0.000\n",
      "Feature [ct_flw_http_mthd] : 0.002\n",
      "Feature [ct_src_ltm] : 0.007\n",
      "Feature [ct_srv_dst] : 0.032\n",
      "Feature [is_sm_ips_ports] : 0.005\n"
     ]
    }
   ],
   "source": [
    "importances = RR.feature_importances_\n",
    "#cols = X_train.columns\n",
    "\n",
    "# print the feature importance scores\n",
    "for i, importance in enumerate(importances):\n",
    "    print(\"Feature [{}] : {:.3f}\".format(cols[i], importance))"
   ]
  },
  {
   "cell_type": "code",
   "execution_count": 67,
   "metadata": {},
   "outputs": [
    {
     "name": "stdout",
     "output_type": "stream",
     "text": [
      "Top 20 feature indices:\n",
      "Index(['sttl', 'ct_state_ttl', 'dload', 'sload', 'dmean', 'dttl', 'dur',\n",
      "       'rate', 'sbytes', 'smean', 'ct_srv_dst', 'ackdat', 'synack', 'dpkts',\n",
      "       'tcprtt', 'ct_dst_src_ltm', 'dbytes', 'ct_srv_src', 'sinpkt', 'dinpkt'],\n",
      "      dtype='object'),"
     ]
    }
   ],
   "source": [
    "# select the top 15 features\n",
    "top_indices = importances.argsort()[::-1][:20]\n",
    "\n",
    "print(\"Top 20 feature indices:\")    #, top_indices)\n",
    "print(cols[top_indices],end = \",\")"
   ]
  },
  {
   "cell_type": "markdown",
   "metadata": {},
   "source": [
    "#### Transforming X with important features"
   ]
  },
  {
   "cell_type": "code",
   "execution_count": 68,
   "metadata": {},
   "outputs": [],
   "source": [
    "# X_train_fi = X[['sttl', 'ct_state_ttl', 'dload', 'dttl', 'tcprtt', 'sload', 'dmean','sbytes', 'ackdat', 'dbytes', 'rate', \n",
    "#                'synack', 'ct_srv_dst', 'smean','dinpkt']]\n",
    "# X_test_fi = X_test[['sttl', 'ct_state_ttl', 'dload', 'dttl', 'tcprtt', 'sload', 'dmean','sbytes', 'ackdat', 'dbytes', 'rate', \n",
    "#                'synack', 'ct_srv_dst', 'smean','dinpkt']]\n",
    "\n",
    "X_train_fi = X[['sttl', 'ct_state_ttl', 'dload', 'sload', 'dmean', 'dttl', 'dur',\n",
    "       'rate', 'sbytes', 'smean', 'ct_srv_dst', 'ackdat', 'synack', 'dpkts',\n",
    "       'tcprtt', 'ct_dst_src_ltm', 'dbytes', 'ct_srv_src', 'sinpkt', 'dinpkt']]\n",
    "X_test_fi = X_test[['sttl', 'ct_state_ttl', 'dload', 'sload', 'dmean', 'dttl', 'dur',\n",
    "       'rate', 'sbytes', 'smean', 'ct_srv_dst', 'ackdat', 'synack', 'dpkts',\n",
    "       'tcprtt', 'ct_dst_src_ltm', 'dbytes', 'ct_srv_src', 'sinpkt', 'dinpkt']]"
   ]
  },
  {
   "cell_type": "code",
   "execution_count": 69,
   "metadata": {},
   "outputs": [],
   "source": [
    "numerical_cols = X_train_fi.select_dtypes(include=['int64', 'float64']).columns\n",
    "categorical_cols = X_train_fi.select_dtypes(include=['object', 'bool']).columns"
   ]
  },
  {
   "cell_type": "code",
   "execution_count": 70,
   "metadata": {},
   "outputs": [
    {
     "data": {
      "text/plain": [
       "Index(['sttl', 'ct_state_ttl', 'dload', 'sload', 'dmean', 'dttl', 'dur',\n",
       "       'rate', 'sbytes', 'smean', 'ct_srv_dst', 'ackdat', 'synack', 'dpkts',\n",
       "       'tcprtt', 'ct_dst_src_ltm', 'dbytes', 'ct_srv_src', 'sinpkt', 'dinpkt'],\n",
       "      dtype='object')"
      ]
     },
     "execution_count": 70,
     "metadata": {},
     "output_type": "execute_result"
    }
   ],
   "source": [
    "numerical_cols"
   ]
  },
  {
   "cell_type": "code",
   "execution_count": 71,
   "metadata": {},
   "outputs": [
    {
     "data": {
      "text/plain": [
       "Index([], dtype='object')"
      ]
     },
     "execution_count": 71,
     "metadata": {},
     "output_type": "execute_result"
    }
   ],
   "source": [
    "categorical_cols"
   ]
  },
  {
   "cell_type": "code",
   "execution_count": 72,
   "metadata": {},
   "outputs": [
    {
     "data": {
      "text/plain": [
       "ColumnTransformer(transformers=[('ohe', OneHotEncoder(drop='first'),\n",
       "                                 Index([], dtype='object')),\n",
       "                                ('scale', StandardScaler(),\n",
       "                                 Index(['sttl', 'ct_state_ttl', 'dload', 'sload', 'dmean', 'dttl', 'dur',\n",
       "       'rate', 'sbytes', 'smean', 'ct_srv_dst', 'ackdat', 'synack', 'dpkts',\n",
       "       'tcprtt', 'ct_dst_src_ltm', 'dbytes', 'ct_srv_src', 'sinpkt', 'dinpkt'],\n",
       "      dtype='object'))])"
      ]
     },
     "execution_count": 72,
     "metadata": {},
     "output_type": "execute_result"
    }
   ],
   "source": [
    "# transformation methods for the columns\n",
    "t = [('ohe', OneHotEncoder(drop='first'), categorical_cols),\n",
    "    ('scale', StandardScaler(), numerical_cols)]\n",
    "\n",
    "col_trans = ColumnTransformer(transformers=t)\n",
    "\n",
    "col_trans.fit(X_train_fi)"
   ]
  },
  {
   "cell_type": "code",
   "execution_count": 73,
   "metadata": {},
   "outputs": [
    {
     "data": {
      "text/plain": [
       "(175341, 20)"
      ]
     },
     "execution_count": 73,
     "metadata": {},
     "output_type": "execute_result"
    }
   ],
   "source": [
    "X_train_transform_fi = col_trans.transform(X_train_fi)\n",
    "X_train_transform_fi.shape"
   ]
  },
  {
   "cell_type": "code",
   "execution_count": 74,
   "metadata": {},
   "outputs": [
    {
     "data": {
      "text/plain": [
       "(82332, 20)"
      ]
     },
     "execution_count": 74,
     "metadata": {},
     "output_type": "execute_result"
    }
   ],
   "source": [
    "X_test_transform_fi = col_trans.transform(X_test_fi)\n",
    "X_test_transform_fi.shape"
   ]
  },
  {
   "cell_type": "markdown",
   "metadata": {},
   "source": [
    "#### Re modelling - target y2"
   ]
  },
  {
   "cell_type": "code",
   "execution_count": 75,
   "metadata": {},
   "outputs": [
    {
     "name": "stdout",
     "output_type": "stream",
     "text": [
      "Accuracy: 0.8709371811689258\n",
      "F1 score: 0.8931931489224832\n"
     ]
    }
   ],
   "source": [
    "# Random Forest classifier\n",
    "RR = RandomForestClassifier()\n",
    "\n",
    "RR.fit(X_train_transform_fi, y2_train_transform)\n",
    "\n",
    "y_pred_RR = RR.predict(X_test_transform_fi)\n",
    "\n",
    "# accuracy of the classifier\n",
    "accuracy = accuracy_score(y2_test_transform, y_pred_RR)\n",
    "print(\"Accuracy:\", accuracy)\n",
    "f1 = f1_score(y2_test_transform, y_pred_RR)\n",
    "print(\"F1 score:\", f1)"
   ]
  },
  {
   "cell_type": "markdown",
   "metadata": {},
   "source": [
    "#### Re modelling - target y1"
   ]
  },
  {
   "cell_type": "code",
   "execution_count": 76,
   "metadata": {},
   "outputs": [
    {
     "name": "stdout",
     "output_type": "stream",
     "text": [
      "Accuracy: 0.7647694699509304\n",
      "F1 score: 0.776184773996498\n"
     ]
    }
   ],
   "source": [
    "# Random Forest classifier\n",
    "RR = RandomForestClassifier()\n",
    "\n",
    "RR.fit(X_train_transform_fi, y1_train_transform)\n",
    "\n",
    "y1_pred_RR = RR.predict(X_test_transform_fi)\n",
    "\n",
    "# accuracy of the classifier\n",
    "accuracy = accuracy_score(y1_test_transform, y1_pred_RR)\n",
    "print(\"Accuracy:\", accuracy)\n",
    "f1 = f1_score(y1_test_transform, y1_pred_RR,average='weighted')\n",
    "print(\"F1 score:\", f1)"
   ]
  },
  {
   "cell_type": "markdown",
   "metadata": {},
   "source": [
    "### Conclusion"
   ]
  },
  {
   "cell_type": "raw",
   "metadata": {},
   "source": [
    "Selecting top 20 features and re modelling resulted in lowering of accuracy in classifying normal response or attack.\n",
    "Hence optimum number of features is to be decided that are to be considered for modelling for best results.\n",
    "In the current senario, all features are to be used."
   ]
  }
 ],
 "metadata": {
  "kernelspec": {
   "display_name": "Python 3",
   "language": "python",
   "name": "python3"
  },
  "language_info": {
   "codemirror_mode": {
    "name": "ipython",
    "version": 3
   },
   "file_extension": ".py",
   "mimetype": "text/x-python",
   "name": "python",
   "nbconvert_exporter": "python",
   "pygments_lexer": "ipython3",
   "version": "3.7.1"
  }
 },
 "nbformat": 4,
 "nbformat_minor": 4
}
